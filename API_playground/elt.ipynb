{
 "cells": [
  {
   "cell_type": "code",
   "execution_count": 1,
   "metadata": {},
   "outputs": [],
   "source": [
    "#Extract\n",
    "\n",
    "from sqlalchemy import false\n",
    "from pycoingecko import CoinGeckoAPI\n",
    "import pandas as pd\n",
    "import datetime as dt \n",
    "\n",
    "cg = CoinGeckoAPI()\n",
    "\n",
    "class Extract():\n",
    "\n",
    "    @staticmethod\n",
    "    def coins():\n",
    "        try:\n",
    "            df = pd.DataFrame(cg.get_coins_list(), columns=['id','name','symbol'])\n",
    "            return df\n",
    "        except:\n",
    "            return False\n",
    "    \n",
    "    @staticmethod\n",
    "    def market():\n",
    "        try:\n",
    "            df = pd.DataFrame(cg.get_coins_markets(vs_currency='usd'), columns=['id','coinid','current_price','market_cap','price_change_percentage_24h','market_cap_change_percentage_24h','last_updated'])\n",
    "            return df\n",
    "        except:\n",
    "            return False\n",
    "\n",
    "    @staticmethod\n",
    "    def trending():\n",
    "        li=[]\n",
    "        try:\n",
    "            trend = cg.get_search_trending()\n",
    "            for item in trend['coins']:\n",
    "                li.append(item['item'])\n",
    "            df = pd.DataFrame(li)\n",
    "            return df\n",
    "        except:\n",
    "            return False\n",
    "\n",
    "    "
   ]
  },
  {
   "cell_type": "code",
   "execution_count": 2,
   "metadata": {},
   "outputs": [],
   "source": [
    "#env var\n",
    "\n",
    "db_user=\"postgres\"\n",
    "db_password=\"postgres\"\n",
    "db_server_name=\"localhost\"\n",
    "db_database_name=\"crypto\""
   ]
  },
  {
   "cell_type": "code",
   "execution_count": 3,
   "metadata": {},
   "outputs": [],
   "source": [
    "#database\n",
    "\n",
    "from sqlalchemy.engine import URL\n",
    "from sqlalchemy import create_engine\n",
    "\n",
    "\n",
    "connection_url = URL.create(\n",
    "    drivername = \"postgresql+pg8000\", \n",
    "    username = db_user,\n",
    "    password = db_password,\n",
    "    host = db_server_name, \n",
    "    port = 5432, \n",
    "    database = db_database_name, \n",
    ")\n",
    "\n",
    "engine = create_engine(connection_url)"
   ]
  },
  {
   "cell_type": "code",
   "execution_count": 4,
   "metadata": {},
   "outputs": [],
   "source": [
    "#Load\n",
    "\n",
    "from sqlalchemy import Integer, String, Float, JSON , DateTime, Boolean, BigInteger, Numeric\n",
    "from sqlalchemy import Table, Column, Integer, String, MetaData, Float, JSON \n",
    "from sqlalchemy.dialects import postgresql\n",
    "import logging\n",
    "\n",
    "\n",
    "def overwrite_to_database(df: pd.DataFrame,table_name:str,engine)->bool:\n",
    "    logging.info(f\"Writing to table: {table_name}\")\n",
    "    df.to_sql(name=table_name, con=engine, if_exists=\"replace\", index=False)\n",
    "    logging.info(f\"Successful write to table: {table_name}, rows inserted/updated: {len(df)}\")"
   ]
  },
  {
   "cell_type": "code",
   "execution_count": 5,
   "metadata": {},
   "outputs": [],
   "source": [
    "#Extrac_Load_pipeline\n",
    "\n",
    "def run(tablename):\n",
    "    \n",
    "    if table_name == 'coins':\n",
    "        df = Extract.coins()\n",
    "    elif table_name == 'market':\n",
    "        df = Extract.market()\n",
    "    elif table_name == 'trending':\n",
    "        df = Extract.trending()    \n",
    "    \n",
    "    overwrite_to_database(df,tablename,engine)"
   ]
  },
  {
   "cell_type": "code",
   "execution_count": 6,
   "metadata": {},
   "outputs": [],
   "source": [
    "#main pipeline\n",
    "\n",
    "tables = ['coins','market','trending']\n",
    "for table_name in tables:\n",
    "    run(table_name)"
   ]
  },
  {
   "cell_type": "code",
   "execution_count": null,
   "metadata": {},
   "outputs": [],
   "source": []
  }
 ],
 "metadata": {
  "kernelspec": {
   "display_name": "Python [conda env:bootcamp]",
   "language": "python",
   "name": "conda-env-bootcamp-py"
  },
  "language_info": {
   "codemirror_mode": {
    "name": "ipython",
    "version": 3
   },
   "file_extension": ".py",
   "mimetype": "text/x-python",
   "name": "python",
   "nbconvert_exporter": "python",
   "pygments_lexer": "ipython3",
   "version": "3.9.13"
  }
 },
 "nbformat": 4,
 "nbformat_minor": 4
}
